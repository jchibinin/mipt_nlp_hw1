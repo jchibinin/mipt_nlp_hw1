{
 "cells": [
  {
   "cell_type": "code",
   "execution_count": null,
   "metadata": {},
   "outputs": [],
   "source": [
    "import kagglehub\n",
    "import pandas as pd\n",
    "import glob\n",
    "from sentence_transformers import SentenceTransformer\n",
    "import torch\n",
    "import gradio as gr\n",
    "\n"
   ]
  },
  {
   "cell_type": "code",
   "execution_count": 2,
   "metadata": {},
   "outputs": [
    {
     "name": "stderr",
     "output_type": "stream",
     "text": [
      "c:\\Users\\Yakov\\Desktop\\mipt\\nlp\\hw1\\venv\\lib\\site-packages\\tqdm\\auto.py:21: TqdmWarning: IProgress not found. Please update jupyter and ipywidgets. See https://ipywidgets.readthedocs.io/en/stable/user_install.html\n",
      "  from .autonotebook import tqdm as notebook_tqdm\n"
     ]
    },
    {
     "name": "stdout",
     "output_type": "stream",
     "text": [
      "Downloading from https://www.kaggle.com/api/v1/datasets/download/kunalbhar/house-md-transcripts?dataset_version_number=2...\n"
     ]
    },
    {
     "name": "stderr",
     "output_type": "stream",
     "text": [
      "100%|██████████| 2.15M/2.15M [00:00<00:00, 2.64MB/s]"
     ]
    },
    {
     "name": "stdout",
     "output_type": "stream",
     "text": [
      "Extracting files...\n"
     ]
    },
    {
     "name": "stderr",
     "output_type": "stream",
     "text": [
      "\n"
     ]
    }
   ],
   "source": [
    "path = kagglehub.dataset_download(\"kunalbhar/house-md-transcripts\")\n"
   ]
  },
  {
   "cell_type": "code",
   "execution_count": 6,
   "metadata": {},
   "outputs": [],
   "source": [
    "seasons = []\n",
    "for file in glob.glob(path+'\\season*.csv'):\n",
    "    df = pd.read_csv(file, encoding= 'unicode_escape')\n",
    "    seasons.append(df)\n",
    "   \n",
    "all_seasons = pd.concat(seasons)\n",
    "all_seasons.head()"
   ]
  },
  {
   "cell_type": "code",
   "execution_count": 10,
   "metadata": {},
   "outputs": [
    {
     "data": {
      "text/html": [
       "<div>\n",
       "<style scoped>\n",
       "    .dataframe tbody tr th:only-of-type {\n",
       "        vertical-align: middle;\n",
       "    }\n",
       "\n",
       "    .dataframe tbody tr th {\n",
       "        vertical-align: top;\n",
       "    }\n",
       "\n",
       "    .dataframe thead th {\n",
       "        text-align: right;\n",
       "    }\n",
       "</style>\n",
       "<table border=\"1\" class=\"dataframe\">\n",
       "  <thead>\n",
       "    <tr style=\"text-align: right;\">\n",
       "      <th></th>\n",
       "      <th>question</th>\n",
       "      <th>answer</th>\n",
       "    </tr>\n",
       "  </thead>\n",
       "  <tbody>\n",
       "    <tr>\n",
       "      <th>0</th>\n",
       "      <td>29 year old female, first seizure one month a...</td>\n",
       "      <td>See that? They all assume I'm a Patient becau...</td>\n",
       "    </tr>\n",
       "    <tr>\n",
       "      <th>1</th>\n",
       "      <td>So put on a white coat like the rest of us.</td>\n",
       "      <td>I don't want them to think I'm a doctor.</td>\n",
       "    </tr>\n",
       "    <tr>\n",
       "      <th>2</th>\n",
       "      <td>You see where the administration might have a...</td>\n",
       "      <td>People don't want a sick doctor.</td>\n",
       "    </tr>\n",
       "    <tr>\n",
       "      <th>3</th>\n",
       "      <td>Fair enough. I don't like healthy Patients. T...</td>\n",
       "      <td>The one who can't talk, I liked that part.</td>\n",
       "    </tr>\n",
       "    <tr>\n",
       "      <th>4</th>\n",
       "      <td>She's my cousin.</td>\n",
       "      <td>And your cousin doesn't like the diagnosis. I...</td>\n",
       "    </tr>\n",
       "  </tbody>\n",
       "</table>\n",
       "</div>"
      ],
      "text/plain": [
       "                                            question  \\\n",
       "0   29 year old female, first seizure one month a...   \n",
       "1        So put on a white coat like the rest of us.   \n",
       "2   You see where the administration might have a...   \n",
       "3   Fair enough. I don't like healthy Patients. T...   \n",
       "4                                   She's my cousin.   \n",
       "\n",
       "                                              answer  \n",
       "0   See that? They all assume I'm a Patient becau...  \n",
       "1           I don't want them to think I'm a doctor.  \n",
       "2                   People don't want a sick doctor.  \n",
       "3         The one who can't talk, I liked that part.  \n",
       "4   And your cousin doesn't like the diagnosis. I...  "
      ]
     },
     "execution_count": 10,
     "metadata": {},
     "output_type": "execute_result"
    }
   ],
   "source": [
    "house_dialogue = []\n",
    "for i in range(len(all_seasons)-1):\n",
    "    current = all_seasons.iloc[i]\n",
    "    next_line = all_seasons.iloc[i+1]\n",
    "    \n",
    "    if current['name'] != 'House' and next_line['name'] == 'House':\n",
    "        house_dialogue.append({\n",
    "            'question': current['line'],\n",
    "            'answer': next_line['line']\n",
    "        })\n",
    "\n",
    "house_qa = pd.DataFrame(house_dialogue)\n",
    "house_qa.head()"
   ]
  },
  {
   "cell_type": "code",
   "execution_count": 11,
   "metadata": {},
   "outputs": [
    {
     "data": {
      "text/plain": [
       "19324"
      ]
     },
     "execution_count": 11,
     "metadata": {},
     "output_type": "execute_result"
    }
   ],
   "source": [
    "len(house_qa)"
   ]
  },
  {
   "cell_type": "code",
   "execution_count": 23,
   "metadata": {},
   "outputs": [],
   "source": [
    "model = SentenceTransformer('all-MiniLM-L6-v2')\n",
    "question_embeddings = model.encode(house_qa['question'].tolist(), convert_to_tensor=True)\n",
    "\n",
    "def get_house_response(user_input, n_responses=1):\n",
    "    input_embedding = model.encode(user_input, convert_to_tensor=True)\n",
    "    similarities = torch.nn.functional.cosine_similarity(input_embedding.unsqueeze(0), question_embeddings)\n",
    "    \n",
    "    most_similar_indices = torch.argsort(similarities, descending=True)[:n_responses]\n",
    "    \n",
    "    return house_qa.iloc[most_similar_indices]['answer'].values\n"
   ]
  },
  {
   "cell_type": "code",
   "execution_count": 24,
   "metadata": {},
   "outputs": [
    {
     "name": "stderr",
     "output_type": "stream",
     "text": [
      "c:\\Users\\Yakov\\Desktop\\mipt\\nlp\\hw1\\venv\\lib\\site-packages\\gradio\\components\\chatbot.py:291: UserWarning: The 'tuples' format for chatbot messages is deprecated and will be removed in a future version of Gradio. Please set type='messages' instead, which uses openai-style 'role' and 'content' keys.\n",
      "  warnings.warn(\n"
     ]
    },
    {
     "name": "stdout",
     "output_type": "stream",
     "text": [
      "* Running on local URL:  http://127.0.0.1:7862\n",
      "\n",
      "To create a public link, set `share=True` in `launch()`.\n"
     ]
    },
    {
     "data": {
      "text/html": [
       "<div><iframe src=\"http://127.0.0.1:7862/\" width=\"100%\" height=\"500\" allow=\"autoplay; camera; microphone; clipboard-read; clipboard-write;\" frameborder=\"0\" allowfullscreen></iframe></div>"
      ],
      "text/plain": [
       "<IPython.core.display.HTML object>"
      ]
     },
     "metadata": {},
     "output_type": "display_data"
    },
    {
     "data": {
      "text/plain": []
     },
     "execution_count": 24,
     "metadata": {},
     "output_type": "execute_result"
    }
   ],
   "source": [
    "def chat_with_house(message, history):\n",
    "    response = get_house_response(message)[0]\n",
    "    return response\n",
    "\n",
    "demo = gr.ChatInterface(\n",
    "        fn=chat_with_house,\n",
    "        title=\"Чат с доктором Хаусом\",\n",
    ")\n",
    "\n",
    "demo.launch()\n"
   ]
  }
 ],
 "metadata": {
  "kernelspec": {
   "display_name": "venv",
   "language": "python",
   "name": "python3"
  },
  "language_info": {
   "codemirror_mode": {
    "name": "ipython",
    "version": 3
   },
   "file_extension": ".py",
   "mimetype": "text/x-python",
   "name": "python",
   "nbconvert_exporter": "python",
   "pygments_lexer": "ipython3",
   "version": "3.10.6"
  }
 },
 "nbformat": 4,
 "nbformat_minor": 2
}
